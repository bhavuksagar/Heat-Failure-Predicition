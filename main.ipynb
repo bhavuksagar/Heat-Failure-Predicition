{
 "cells": [
  {
   "cell_type": "code",
   "execution_count": 199,
   "metadata": {},
   "outputs": [],
   "source": [
    "import pandas as pd\n",
    "from sklearn.preprocessing import StandardScaler,MinMaxScaler\n",
    "from sklearn.model_selection import train_test_split\n",
    "from sklearn.ensemble import RandomForestClassifier\n",
    "from sklearn.neighbors import KNeighborsClassifier\n",
    "from sklearn.naive_bayes import BernoulliNB,MultinomialNB\n",
    "from sklearn.linear_model import LogisticRegression\n",
    "from sklearn.tree import DecisionTreeClassifier\n",
    "from sklearn.svm import SVC\n",
    "import numpy as np\n",
    "import matplotlib.pyplot as plt"
   ]
  },
  {
   "cell_type": "code",
   "execution_count": 2,
   "metadata": {},
   "outputs": [],
   "source": [
    "df=pd.read_csv(\"train.csv\")"
   ]
  },
  {
   "cell_type": "code",
   "execution_count": 3,
   "metadata": {},
   "outputs": [
    {
     "data": {
      "text/html": [
       "<div>\n",
       "<style scoped>\n",
       "    .dataframe tbody tr th:only-of-type {\n",
       "        vertical-align: middle;\n",
       "    }\n",
       "\n",
       "    .dataframe tbody tr th {\n",
       "        vertical-align: top;\n",
       "    }\n",
       "\n",
       "    .dataframe thead th {\n",
       "        text-align: right;\n",
       "    }\n",
       "</style>\n",
       "<table border=\"1\" class=\"dataframe\">\n",
       "  <thead>\n",
       "    <tr style=\"text-align: right;\">\n",
       "      <th></th>\n",
       "      <th>age</th>\n",
       "      <th>anaemia</th>\n",
       "      <th>creatinine_phosphokinase</th>\n",
       "      <th>diabetes</th>\n",
       "      <th>ejection_fraction</th>\n",
       "      <th>high_blood_pressure</th>\n",
       "      <th>platelets</th>\n",
       "      <th>serum_creatinine</th>\n",
       "      <th>serum_sodium</th>\n",
       "      <th>sex</th>\n",
       "      <th>smoking</th>\n",
       "      <th>time</th>\n",
       "      <th>DEATH_EVENT</th>\n",
       "    </tr>\n",
       "  </thead>\n",
       "  <tbody>\n",
       "    <tr>\n",
       "      <td>0</td>\n",
       "      <td>75.0</td>\n",
       "      <td>0</td>\n",
       "      <td>582</td>\n",
       "      <td>0</td>\n",
       "      <td>20</td>\n",
       "      <td>1</td>\n",
       "      <td>265000.00</td>\n",
       "      <td>1.9</td>\n",
       "      <td>130</td>\n",
       "      <td>1</td>\n",
       "      <td>0</td>\n",
       "      <td>4</td>\n",
       "      <td>1</td>\n",
       "    </tr>\n",
       "    <tr>\n",
       "      <td>1</td>\n",
       "      <td>55.0</td>\n",
       "      <td>0</td>\n",
       "      <td>7861</td>\n",
       "      <td>0</td>\n",
       "      <td>38</td>\n",
       "      <td>0</td>\n",
       "      <td>263358.03</td>\n",
       "      <td>1.1</td>\n",
       "      <td>136</td>\n",
       "      <td>1</td>\n",
       "      <td>0</td>\n",
       "      <td>6</td>\n",
       "      <td>1</td>\n",
       "    </tr>\n",
       "    <tr>\n",
       "      <td>2</td>\n",
       "      <td>65.0</td>\n",
       "      <td>0</td>\n",
       "      <td>146</td>\n",
       "      <td>0</td>\n",
       "      <td>20</td>\n",
       "      <td>0</td>\n",
       "      <td>162000.00</td>\n",
       "      <td>1.3</td>\n",
       "      <td>129</td>\n",
       "      <td>1</td>\n",
       "      <td>1</td>\n",
       "      <td>7</td>\n",
       "      <td>1</td>\n",
       "    </tr>\n",
       "    <tr>\n",
       "      <td>3</td>\n",
       "      <td>50.0</td>\n",
       "      <td>1</td>\n",
       "      <td>111</td>\n",
       "      <td>0</td>\n",
       "      <td>20</td>\n",
       "      <td>0</td>\n",
       "      <td>210000.00</td>\n",
       "      <td>1.9</td>\n",
       "      <td>137</td>\n",
       "      <td>1</td>\n",
       "      <td>0</td>\n",
       "      <td>7</td>\n",
       "      <td>1</td>\n",
       "    </tr>\n",
       "    <tr>\n",
       "      <td>4</td>\n",
       "      <td>65.0</td>\n",
       "      <td>1</td>\n",
       "      <td>160</td>\n",
       "      <td>1</td>\n",
       "      <td>20</td>\n",
       "      <td>0</td>\n",
       "      <td>327000.00</td>\n",
       "      <td>2.7</td>\n",
       "      <td>116</td>\n",
       "      <td>0</td>\n",
       "      <td>0</td>\n",
       "      <td>8</td>\n",
       "      <td>1</td>\n",
       "    </tr>\n",
       "  </tbody>\n",
       "</table>\n",
       "</div>"
      ],
      "text/plain": [
       "    age  anaemia  creatinine_phosphokinase  diabetes  ejection_fraction  \\\n",
       "0  75.0        0                       582         0                 20   \n",
       "1  55.0        0                      7861         0                 38   \n",
       "2  65.0        0                       146         0                 20   \n",
       "3  50.0        1                       111         0                 20   \n",
       "4  65.0        1                       160         1                 20   \n",
       "\n",
       "   high_blood_pressure  platelets  serum_creatinine  serum_sodium  sex  \\\n",
       "0                    1  265000.00               1.9           130    1   \n",
       "1                    0  263358.03               1.1           136    1   \n",
       "2                    0  162000.00               1.3           129    1   \n",
       "3                    0  210000.00               1.9           137    1   \n",
       "4                    0  327000.00               2.7           116    0   \n",
       "\n",
       "   smoking  time  DEATH_EVENT  \n",
       "0        0     4            1  \n",
       "1        0     6            1  \n",
       "2        1     7            1  \n",
       "3        0     7            1  \n",
       "4        0     8            1  "
      ]
     },
     "execution_count": 3,
     "metadata": {},
     "output_type": "execute_result"
    }
   ],
   "source": [
    "df.head()"
   ]
  },
  {
   "cell_type": "markdown",
   "metadata": {},
   "source": [
    "# Describing the Data"
   ]
  },
  {
   "cell_type": "code",
   "execution_count": 5,
   "metadata": {},
   "outputs": [
    {
     "name": "stdout",
     "output_type": "stream",
     "text": [
      "<class 'pandas.core.frame.DataFrame'>\n",
      "RangeIndex: 299 entries, 0 to 298\n",
      "Data columns (total 13 columns):\n",
      "age                         299 non-null float64\n",
      "anaemia                     299 non-null int64\n",
      "creatinine_phosphokinase    299 non-null int64\n",
      "diabetes                    299 non-null int64\n",
      "ejection_fraction           299 non-null int64\n",
      "high_blood_pressure         299 non-null int64\n",
      "platelets                   299 non-null float64\n",
      "serum_creatinine            299 non-null float64\n",
      "serum_sodium                299 non-null int64\n",
      "sex                         299 non-null int64\n",
      "smoking                     299 non-null int64\n",
      "time                        299 non-null int64\n",
      "DEATH_EVENT                 299 non-null int64\n",
      "dtypes: float64(3), int64(10)\n",
      "memory usage: 30.5 KB\n"
     ]
    }
   ],
   "source": [
    "df.info()"
   ]
  },
  {
   "cell_type": "code",
   "execution_count": 6,
   "metadata": {},
   "outputs": [
    {
     "data": {
      "text/html": [
       "<div>\n",
       "<style scoped>\n",
       "    .dataframe tbody tr th:only-of-type {\n",
       "        vertical-align: middle;\n",
       "    }\n",
       "\n",
       "    .dataframe tbody tr th {\n",
       "        vertical-align: top;\n",
       "    }\n",
       "\n",
       "    .dataframe thead th {\n",
       "        text-align: right;\n",
       "    }\n",
       "</style>\n",
       "<table border=\"1\" class=\"dataframe\">\n",
       "  <thead>\n",
       "    <tr style=\"text-align: right;\">\n",
       "      <th></th>\n",
       "      <th>age</th>\n",
       "      <th>anaemia</th>\n",
       "      <th>creatinine_phosphokinase</th>\n",
       "      <th>diabetes</th>\n",
       "      <th>ejection_fraction</th>\n",
       "      <th>high_blood_pressure</th>\n",
       "      <th>platelets</th>\n",
       "      <th>serum_creatinine</th>\n",
       "      <th>serum_sodium</th>\n",
       "      <th>sex</th>\n",
       "      <th>smoking</th>\n",
       "      <th>time</th>\n",
       "      <th>DEATH_EVENT</th>\n",
       "    </tr>\n",
       "  </thead>\n",
       "  <tbody>\n",
       "    <tr>\n",
       "      <td>count</td>\n",
       "      <td>299.000000</td>\n",
       "      <td>299.000000</td>\n",
       "      <td>299.000000</td>\n",
       "      <td>299.000000</td>\n",
       "      <td>299.000000</td>\n",
       "      <td>299.000000</td>\n",
       "      <td>299.000000</td>\n",
       "      <td>299.00000</td>\n",
       "      <td>299.000000</td>\n",
       "      <td>299.000000</td>\n",
       "      <td>299.00000</td>\n",
       "      <td>299.000000</td>\n",
       "      <td>299.00000</td>\n",
       "    </tr>\n",
       "    <tr>\n",
       "      <td>mean</td>\n",
       "      <td>60.833893</td>\n",
       "      <td>0.431438</td>\n",
       "      <td>581.839465</td>\n",
       "      <td>0.418060</td>\n",
       "      <td>38.083612</td>\n",
       "      <td>0.351171</td>\n",
       "      <td>263358.029264</td>\n",
       "      <td>1.39388</td>\n",
       "      <td>136.625418</td>\n",
       "      <td>0.648829</td>\n",
       "      <td>0.32107</td>\n",
       "      <td>130.260870</td>\n",
       "      <td>0.32107</td>\n",
       "    </tr>\n",
       "    <tr>\n",
       "      <td>std</td>\n",
       "      <td>11.894809</td>\n",
       "      <td>0.496107</td>\n",
       "      <td>970.287881</td>\n",
       "      <td>0.494067</td>\n",
       "      <td>11.834841</td>\n",
       "      <td>0.478136</td>\n",
       "      <td>97804.236869</td>\n",
       "      <td>1.03451</td>\n",
       "      <td>4.412477</td>\n",
       "      <td>0.478136</td>\n",
       "      <td>0.46767</td>\n",
       "      <td>77.614208</td>\n",
       "      <td>0.46767</td>\n",
       "    </tr>\n",
       "    <tr>\n",
       "      <td>min</td>\n",
       "      <td>40.000000</td>\n",
       "      <td>0.000000</td>\n",
       "      <td>23.000000</td>\n",
       "      <td>0.000000</td>\n",
       "      <td>14.000000</td>\n",
       "      <td>0.000000</td>\n",
       "      <td>25100.000000</td>\n",
       "      <td>0.50000</td>\n",
       "      <td>113.000000</td>\n",
       "      <td>0.000000</td>\n",
       "      <td>0.00000</td>\n",
       "      <td>4.000000</td>\n",
       "      <td>0.00000</td>\n",
       "    </tr>\n",
       "    <tr>\n",
       "      <td>25%</td>\n",
       "      <td>51.000000</td>\n",
       "      <td>0.000000</td>\n",
       "      <td>116.500000</td>\n",
       "      <td>0.000000</td>\n",
       "      <td>30.000000</td>\n",
       "      <td>0.000000</td>\n",
       "      <td>212500.000000</td>\n",
       "      <td>0.90000</td>\n",
       "      <td>134.000000</td>\n",
       "      <td>0.000000</td>\n",
       "      <td>0.00000</td>\n",
       "      <td>73.000000</td>\n",
       "      <td>0.00000</td>\n",
       "    </tr>\n",
       "    <tr>\n",
       "      <td>50%</td>\n",
       "      <td>60.000000</td>\n",
       "      <td>0.000000</td>\n",
       "      <td>250.000000</td>\n",
       "      <td>0.000000</td>\n",
       "      <td>38.000000</td>\n",
       "      <td>0.000000</td>\n",
       "      <td>262000.000000</td>\n",
       "      <td>1.10000</td>\n",
       "      <td>137.000000</td>\n",
       "      <td>1.000000</td>\n",
       "      <td>0.00000</td>\n",
       "      <td>115.000000</td>\n",
       "      <td>0.00000</td>\n",
       "    </tr>\n",
       "    <tr>\n",
       "      <td>75%</td>\n",
       "      <td>70.000000</td>\n",
       "      <td>1.000000</td>\n",
       "      <td>582.000000</td>\n",
       "      <td>1.000000</td>\n",
       "      <td>45.000000</td>\n",
       "      <td>1.000000</td>\n",
       "      <td>303500.000000</td>\n",
       "      <td>1.40000</td>\n",
       "      <td>140.000000</td>\n",
       "      <td>1.000000</td>\n",
       "      <td>1.00000</td>\n",
       "      <td>203.000000</td>\n",
       "      <td>1.00000</td>\n",
       "    </tr>\n",
       "    <tr>\n",
       "      <td>max</td>\n",
       "      <td>95.000000</td>\n",
       "      <td>1.000000</td>\n",
       "      <td>7861.000000</td>\n",
       "      <td>1.000000</td>\n",
       "      <td>80.000000</td>\n",
       "      <td>1.000000</td>\n",
       "      <td>850000.000000</td>\n",
       "      <td>9.40000</td>\n",
       "      <td>148.000000</td>\n",
       "      <td>1.000000</td>\n",
       "      <td>1.00000</td>\n",
       "      <td>285.000000</td>\n",
       "      <td>1.00000</td>\n",
       "    </tr>\n",
       "  </tbody>\n",
       "</table>\n",
       "</div>"
      ],
      "text/plain": [
       "              age     anaemia  creatinine_phosphokinase    diabetes  \\\n",
       "count  299.000000  299.000000                299.000000  299.000000   \n",
       "mean    60.833893    0.431438                581.839465    0.418060   \n",
       "std     11.894809    0.496107                970.287881    0.494067   \n",
       "min     40.000000    0.000000                 23.000000    0.000000   \n",
       "25%     51.000000    0.000000                116.500000    0.000000   \n",
       "50%     60.000000    0.000000                250.000000    0.000000   \n",
       "75%     70.000000    1.000000                582.000000    1.000000   \n",
       "max     95.000000    1.000000               7861.000000    1.000000   \n",
       "\n",
       "       ejection_fraction  high_blood_pressure      platelets  \\\n",
       "count         299.000000           299.000000     299.000000   \n",
       "mean           38.083612             0.351171  263358.029264   \n",
       "std            11.834841             0.478136   97804.236869   \n",
       "min            14.000000             0.000000   25100.000000   \n",
       "25%            30.000000             0.000000  212500.000000   \n",
       "50%            38.000000             0.000000  262000.000000   \n",
       "75%            45.000000             1.000000  303500.000000   \n",
       "max            80.000000             1.000000  850000.000000   \n",
       "\n",
       "       serum_creatinine  serum_sodium         sex    smoking        time  \\\n",
       "count         299.00000    299.000000  299.000000  299.00000  299.000000   \n",
       "mean            1.39388    136.625418    0.648829    0.32107  130.260870   \n",
       "std             1.03451      4.412477    0.478136    0.46767   77.614208   \n",
       "min             0.50000    113.000000    0.000000    0.00000    4.000000   \n",
       "25%             0.90000    134.000000    0.000000    0.00000   73.000000   \n",
       "50%             1.10000    137.000000    1.000000    0.00000  115.000000   \n",
       "75%             1.40000    140.000000    1.000000    1.00000  203.000000   \n",
       "max             9.40000    148.000000    1.000000    1.00000  285.000000   \n",
       "\n",
       "       DEATH_EVENT  \n",
       "count    299.00000  \n",
       "mean       0.32107  \n",
       "std        0.46767  \n",
       "min        0.00000  \n",
       "25%        0.00000  \n",
       "50%        0.00000  \n",
       "75%        1.00000  \n",
       "max        1.00000  "
      ]
     },
     "execution_count": 6,
     "metadata": {},
     "output_type": "execute_result"
    }
   ],
   "source": [
    "df.describe()"
   ]
  },
  {
   "cell_type": "code",
   "execution_count": 7,
   "metadata": {},
   "outputs": [
    {
     "data": {
      "text/plain": [
       "age                         0\n",
       "anaemia                     0\n",
       "creatinine_phosphokinase    0\n",
       "diabetes                    0\n",
       "ejection_fraction           0\n",
       "high_blood_pressure         0\n",
       "platelets                   0\n",
       "serum_creatinine            0\n",
       "serum_sodium                0\n",
       "sex                         0\n",
       "smoking                     0\n",
       "time                        0\n",
       "DEATH_EVENT                 0\n",
       "dtype: int64"
      ]
     },
     "execution_count": 7,
     "metadata": {},
     "output_type": "execute_result"
    }
   ],
   "source": [
    "df.isnull().sum()"
   ]
  },
  {
   "cell_type": "code",
   "execution_count": 11,
   "metadata": {},
   "outputs": [],
   "source": [
    "df.drop([\"time\"],axis=1,inplace=True)"
   ]
  },
  {
   "cell_type": "code",
   "execution_count": 12,
   "metadata": {},
   "outputs": [
    {
     "data": {
      "text/html": [
       "<div>\n",
       "<style scoped>\n",
       "    .dataframe tbody tr th:only-of-type {\n",
       "        vertical-align: middle;\n",
       "    }\n",
       "\n",
       "    .dataframe tbody tr th {\n",
       "        vertical-align: top;\n",
       "    }\n",
       "\n",
       "    .dataframe thead th {\n",
       "        text-align: right;\n",
       "    }\n",
       "</style>\n",
       "<table border=\"1\" class=\"dataframe\">\n",
       "  <thead>\n",
       "    <tr style=\"text-align: right;\">\n",
       "      <th></th>\n",
       "      <th>age</th>\n",
       "      <th>anaemia</th>\n",
       "      <th>creatinine_phosphokinase</th>\n",
       "      <th>diabetes</th>\n",
       "      <th>ejection_fraction</th>\n",
       "      <th>high_blood_pressure</th>\n",
       "      <th>platelets</th>\n",
       "      <th>serum_creatinine</th>\n",
       "      <th>serum_sodium</th>\n",
       "      <th>sex</th>\n",
       "      <th>smoking</th>\n",
       "      <th>DEATH_EVENT</th>\n",
       "    </tr>\n",
       "  </thead>\n",
       "  <tbody>\n",
       "    <tr>\n",
       "      <td>0</td>\n",
       "      <td>75.0</td>\n",
       "      <td>0</td>\n",
       "      <td>582</td>\n",
       "      <td>0</td>\n",
       "      <td>20</td>\n",
       "      <td>1</td>\n",
       "      <td>265000.00</td>\n",
       "      <td>1.9</td>\n",
       "      <td>130</td>\n",
       "      <td>1</td>\n",
       "      <td>0</td>\n",
       "      <td>1</td>\n",
       "    </tr>\n",
       "    <tr>\n",
       "      <td>1</td>\n",
       "      <td>55.0</td>\n",
       "      <td>0</td>\n",
       "      <td>7861</td>\n",
       "      <td>0</td>\n",
       "      <td>38</td>\n",
       "      <td>0</td>\n",
       "      <td>263358.03</td>\n",
       "      <td>1.1</td>\n",
       "      <td>136</td>\n",
       "      <td>1</td>\n",
       "      <td>0</td>\n",
       "      <td>1</td>\n",
       "    </tr>\n",
       "    <tr>\n",
       "      <td>2</td>\n",
       "      <td>65.0</td>\n",
       "      <td>0</td>\n",
       "      <td>146</td>\n",
       "      <td>0</td>\n",
       "      <td>20</td>\n",
       "      <td>0</td>\n",
       "      <td>162000.00</td>\n",
       "      <td>1.3</td>\n",
       "      <td>129</td>\n",
       "      <td>1</td>\n",
       "      <td>1</td>\n",
       "      <td>1</td>\n",
       "    </tr>\n",
       "    <tr>\n",
       "      <td>3</td>\n",
       "      <td>50.0</td>\n",
       "      <td>1</td>\n",
       "      <td>111</td>\n",
       "      <td>0</td>\n",
       "      <td>20</td>\n",
       "      <td>0</td>\n",
       "      <td>210000.00</td>\n",
       "      <td>1.9</td>\n",
       "      <td>137</td>\n",
       "      <td>1</td>\n",
       "      <td>0</td>\n",
       "      <td>1</td>\n",
       "    </tr>\n",
       "    <tr>\n",
       "      <td>4</td>\n",
       "      <td>65.0</td>\n",
       "      <td>1</td>\n",
       "      <td>160</td>\n",
       "      <td>1</td>\n",
       "      <td>20</td>\n",
       "      <td>0</td>\n",
       "      <td>327000.00</td>\n",
       "      <td>2.7</td>\n",
       "      <td>116</td>\n",
       "      <td>0</td>\n",
       "      <td>0</td>\n",
       "      <td>1</td>\n",
       "    </tr>\n",
       "    <tr>\n",
       "      <td>...</td>\n",
       "      <td>...</td>\n",
       "      <td>...</td>\n",
       "      <td>...</td>\n",
       "      <td>...</td>\n",
       "      <td>...</td>\n",
       "      <td>...</td>\n",
       "      <td>...</td>\n",
       "      <td>...</td>\n",
       "      <td>...</td>\n",
       "      <td>...</td>\n",
       "      <td>...</td>\n",
       "      <td>...</td>\n",
       "    </tr>\n",
       "    <tr>\n",
       "      <td>294</td>\n",
       "      <td>62.0</td>\n",
       "      <td>0</td>\n",
       "      <td>61</td>\n",
       "      <td>1</td>\n",
       "      <td>38</td>\n",
       "      <td>1</td>\n",
       "      <td>155000.00</td>\n",
       "      <td>1.1</td>\n",
       "      <td>143</td>\n",
       "      <td>1</td>\n",
       "      <td>1</td>\n",
       "      <td>0</td>\n",
       "    </tr>\n",
       "    <tr>\n",
       "      <td>295</td>\n",
       "      <td>55.0</td>\n",
       "      <td>0</td>\n",
       "      <td>1820</td>\n",
       "      <td>0</td>\n",
       "      <td>38</td>\n",
       "      <td>0</td>\n",
       "      <td>270000.00</td>\n",
       "      <td>1.2</td>\n",
       "      <td>139</td>\n",
       "      <td>0</td>\n",
       "      <td>0</td>\n",
       "      <td>0</td>\n",
       "    </tr>\n",
       "    <tr>\n",
       "      <td>296</td>\n",
       "      <td>45.0</td>\n",
       "      <td>0</td>\n",
       "      <td>2060</td>\n",
       "      <td>1</td>\n",
       "      <td>60</td>\n",
       "      <td>0</td>\n",
       "      <td>742000.00</td>\n",
       "      <td>0.8</td>\n",
       "      <td>138</td>\n",
       "      <td>0</td>\n",
       "      <td>0</td>\n",
       "      <td>0</td>\n",
       "    </tr>\n",
       "    <tr>\n",
       "      <td>297</td>\n",
       "      <td>45.0</td>\n",
       "      <td>0</td>\n",
       "      <td>2413</td>\n",
       "      <td>0</td>\n",
       "      <td>38</td>\n",
       "      <td>0</td>\n",
       "      <td>140000.00</td>\n",
       "      <td>1.4</td>\n",
       "      <td>140</td>\n",
       "      <td>1</td>\n",
       "      <td>1</td>\n",
       "      <td>0</td>\n",
       "    </tr>\n",
       "    <tr>\n",
       "      <td>298</td>\n",
       "      <td>50.0</td>\n",
       "      <td>0</td>\n",
       "      <td>196</td>\n",
       "      <td>0</td>\n",
       "      <td>45</td>\n",
       "      <td>0</td>\n",
       "      <td>395000.00</td>\n",
       "      <td>1.6</td>\n",
       "      <td>136</td>\n",
       "      <td>1</td>\n",
       "      <td>1</td>\n",
       "      <td>0</td>\n",
       "    </tr>\n",
       "  </tbody>\n",
       "</table>\n",
       "<p>299 rows × 12 columns</p>\n",
       "</div>"
      ],
      "text/plain": [
       "      age  anaemia  creatinine_phosphokinase  diabetes  ejection_fraction  \\\n",
       "0    75.0        0                       582         0                 20   \n",
       "1    55.0        0                      7861         0                 38   \n",
       "2    65.0        0                       146         0                 20   \n",
       "3    50.0        1                       111         0                 20   \n",
       "4    65.0        1                       160         1                 20   \n",
       "..    ...      ...                       ...       ...                ...   \n",
       "294  62.0        0                        61         1                 38   \n",
       "295  55.0        0                      1820         0                 38   \n",
       "296  45.0        0                      2060         1                 60   \n",
       "297  45.0        0                      2413         0                 38   \n",
       "298  50.0        0                       196         0                 45   \n",
       "\n",
       "     high_blood_pressure  platelets  serum_creatinine  serum_sodium  sex  \\\n",
       "0                      1  265000.00               1.9           130    1   \n",
       "1                      0  263358.03               1.1           136    1   \n",
       "2                      0  162000.00               1.3           129    1   \n",
       "3                      0  210000.00               1.9           137    1   \n",
       "4                      0  327000.00               2.7           116    0   \n",
       "..                   ...        ...               ...           ...  ...   \n",
       "294                    1  155000.00               1.1           143    1   \n",
       "295                    0  270000.00               1.2           139    0   \n",
       "296                    0  742000.00               0.8           138    0   \n",
       "297                    0  140000.00               1.4           140    1   \n",
       "298                    0  395000.00               1.6           136    1   \n",
       "\n",
       "     smoking  DEATH_EVENT  \n",
       "0          0            1  \n",
       "1          0            1  \n",
       "2          1            1  \n",
       "3          0            1  \n",
       "4          0            1  \n",
       "..       ...          ...  \n",
       "294        1            0  \n",
       "295        0            0  \n",
       "296        0            0  \n",
       "297        1            0  \n",
       "298        1            0  \n",
       "\n",
       "[299 rows x 12 columns]"
      ]
     },
     "execution_count": 12,
     "metadata": {},
     "output_type": "execute_result"
    }
   ],
   "source": [
    "df"
   ]
  },
  {
   "cell_type": "code",
   "execution_count": 13,
   "metadata": {},
   "outputs": [],
   "source": [
    "y=df['DEATH_EVENT']\n",
    "x=df.iloc[0:,:11]"
   ]
  },
  {
   "cell_type": "code",
   "execution_count": 17,
   "metadata": {},
   "outputs": [
    {
     "data": {
      "text/html": [
       "<div>\n",
       "<style scoped>\n",
       "    .dataframe tbody tr th:only-of-type {\n",
       "        vertical-align: middle;\n",
       "    }\n",
       "\n",
       "    .dataframe tbody tr th {\n",
       "        vertical-align: top;\n",
       "    }\n",
       "\n",
       "    .dataframe thead th {\n",
       "        text-align: right;\n",
       "    }\n",
       "</style>\n",
       "<table border=\"1\" class=\"dataframe\">\n",
       "  <thead>\n",
       "    <tr style=\"text-align: right;\">\n",
       "      <th></th>\n",
       "      <th>age</th>\n",
       "      <th>anaemia</th>\n",
       "      <th>creatinine_phosphokinase</th>\n",
       "      <th>diabetes</th>\n",
       "      <th>ejection_fraction</th>\n",
       "      <th>high_blood_pressure</th>\n",
       "      <th>platelets</th>\n",
       "      <th>serum_creatinine</th>\n",
       "      <th>serum_sodium</th>\n",
       "      <th>sex</th>\n",
       "      <th>smoking</th>\n",
       "    </tr>\n",
       "  </thead>\n",
       "  <tbody>\n",
       "    <tr>\n",
       "      <td>0</td>\n",
       "      <td>75.0</td>\n",
       "      <td>0</td>\n",
       "      <td>582</td>\n",
       "      <td>0</td>\n",
       "      <td>20</td>\n",
       "      <td>1</td>\n",
       "      <td>265000.00</td>\n",
       "      <td>1.9</td>\n",
       "      <td>130</td>\n",
       "      <td>1</td>\n",
       "      <td>0</td>\n",
       "    </tr>\n",
       "    <tr>\n",
       "      <td>1</td>\n",
       "      <td>55.0</td>\n",
       "      <td>0</td>\n",
       "      <td>7861</td>\n",
       "      <td>0</td>\n",
       "      <td>38</td>\n",
       "      <td>0</td>\n",
       "      <td>263358.03</td>\n",
       "      <td>1.1</td>\n",
       "      <td>136</td>\n",
       "      <td>1</td>\n",
       "      <td>0</td>\n",
       "    </tr>\n",
       "    <tr>\n",
       "      <td>2</td>\n",
       "      <td>65.0</td>\n",
       "      <td>0</td>\n",
       "      <td>146</td>\n",
       "      <td>0</td>\n",
       "      <td>20</td>\n",
       "      <td>0</td>\n",
       "      <td>162000.00</td>\n",
       "      <td>1.3</td>\n",
       "      <td>129</td>\n",
       "      <td>1</td>\n",
       "      <td>1</td>\n",
       "    </tr>\n",
       "    <tr>\n",
       "      <td>3</td>\n",
       "      <td>50.0</td>\n",
       "      <td>1</td>\n",
       "      <td>111</td>\n",
       "      <td>0</td>\n",
       "      <td>20</td>\n",
       "      <td>0</td>\n",
       "      <td>210000.00</td>\n",
       "      <td>1.9</td>\n",
       "      <td>137</td>\n",
       "      <td>1</td>\n",
       "      <td>0</td>\n",
       "    </tr>\n",
       "    <tr>\n",
       "      <td>4</td>\n",
       "      <td>65.0</td>\n",
       "      <td>1</td>\n",
       "      <td>160</td>\n",
       "      <td>1</td>\n",
       "      <td>20</td>\n",
       "      <td>0</td>\n",
       "      <td>327000.00</td>\n",
       "      <td>2.7</td>\n",
       "      <td>116</td>\n",
       "      <td>0</td>\n",
       "      <td>0</td>\n",
       "    </tr>\n",
       "  </tbody>\n",
       "</table>\n",
       "</div>"
      ],
      "text/plain": [
       "    age  anaemia  creatinine_phosphokinase  diabetes  ejection_fraction  \\\n",
       "0  75.0        0                       582         0                 20   \n",
       "1  55.0        0                      7861         0                 38   \n",
       "2  65.0        0                       146         0                 20   \n",
       "3  50.0        1                       111         0                 20   \n",
       "4  65.0        1                       160         1                 20   \n",
       "\n",
       "   high_blood_pressure  platelets  serum_creatinine  serum_sodium  sex  \\\n",
       "0                    1  265000.00               1.9           130    1   \n",
       "1                    0  263358.03               1.1           136    1   \n",
       "2                    0  162000.00               1.3           129    1   \n",
       "3                    0  210000.00               1.9           137    1   \n",
       "4                    0  327000.00               2.7           116    0   \n",
       "\n",
       "   smoking  \n",
       "0        0  \n",
       "1        0  \n",
       "2        1  \n",
       "3        0  \n",
       "4        0  "
      ]
     },
     "execution_count": 17,
     "metadata": {},
     "output_type": "execute_result"
    }
   ],
   "source": [
    "x.head()"
   ]
  },
  {
   "cell_type": "code",
   "execution_count": 19,
   "metadata": {},
   "outputs": [
    {
     "data": {
      "text/plain": [
       "0    1\n",
       "1    1\n",
       "2    1\n",
       "3    1\n",
       "4    1\n",
       "Name: DEATH_EVENT, dtype: int64"
      ]
     },
     "execution_count": 19,
     "metadata": {},
     "output_type": "execute_result"
    }
   ],
   "source": [
    "y.head()"
   ]
  },
  {
   "cell_type": "markdown",
   "metadata": {},
   "source": [
    "# Spliting and Scaling the Data"
   ]
  },
  {
   "cell_type": "code",
   "execution_count": 180,
   "metadata": {},
   "outputs": [],
   "source": [
    "x_train,x_test,y_train,y_test=train_test_split(x,y,random_state=2,test_size=.20)"
   ]
  },
  {
   "cell_type": "code",
   "execution_count": 181,
   "metadata": {},
   "outputs": [],
   "source": [
    "scale=StandardScaler()\n",
    "x_train_scale=scale.fit_transform(x_train)\n",
    "x_test_scale=scale.transform(x_test)"
   ]
  },
  {
   "cell_type": "markdown",
   "metadata": {},
   "source": [
    "## Basic ML Algos"
   ]
  },
  {
   "cell_type": "code",
   "execution_count": 57,
   "metadata": {},
   "outputs": [
    {
     "name": "stderr",
     "output_type": "stream",
     "text": [
      "/Users/sahilsagar/opt/anaconda3/lib/python3.7/site-packages/sklearn/ensemble/forest.py:245: FutureWarning: The default value of n_estimators will change from 10 in version 0.20 to 100 in 0.22.\n",
      "  \"10 in version 0.20 to 100 in 0.22.\", FutureWarning)\n"
     ]
    },
    {
     "data": {
      "text/plain": [
       "0.8"
      ]
     },
     "execution_count": 57,
     "metadata": {},
     "output_type": "execute_result"
    }
   ],
   "source": [
    "rn=RandomForestClassifier()\n",
    "rn.fit(x_train_scale,y_train)\n",
    "rn.score(x_test_scale,y_test)"
   ]
  },
  {
   "cell_type": "code",
   "execution_count": 58,
   "metadata": {},
   "outputs": [
    {
     "name": "stdout",
     "output_type": "stream",
     "text": [
      "2 0.6833333333333333\n",
      "3 0.6833333333333333\n",
      "4 0.6833333333333333\n",
      "5 0.6833333333333333\n",
      "6 0.6833333333333333\n",
      "7 0.6833333333333333\n",
      "8 0.6833333333333333\n",
      "9 0.6833333333333333\n",
      "10 0.6833333333333333\n"
     ]
    }
   ],
   "source": [
    "for i in range(2,11):\n",
    "    kn=KNeighborsClassifier()\n",
    "    kn.fit(x_train_scale,y_train)\n",
    "    print(i,kn.score(x_test_scale,y_test))"
   ]
  },
  {
   "cell_type": "code",
   "execution_count": 59,
   "metadata": {},
   "outputs": [
    {
     "name": "stderr",
     "output_type": "stream",
     "text": [
      "/Users/sahilsagar/opt/anaconda3/lib/python3.7/site-packages/sklearn/linear_model/logistic.py:432: FutureWarning: Default solver will be changed to 'lbfgs' in 0.22. Specify a solver to silence this warning.\n",
      "  FutureWarning)\n"
     ]
    },
    {
     "data": {
      "text/plain": [
       "0.7833333333333333"
      ]
     },
     "execution_count": 59,
     "metadata": {},
     "output_type": "execute_result"
    }
   ],
   "source": [
    "lg=LogisticRegression()\n",
    "lg.fit(x_train_scale,y_train)\n",
    "lg.score(x_test_scale,y_test)"
   ]
  },
  {
   "cell_type": "code",
   "execution_count": 60,
   "metadata": {},
   "outputs": [
    {
     "data": {
      "text/plain": [
       "0.7666666666666667"
      ]
     },
     "execution_count": 60,
     "metadata": {},
     "output_type": "execute_result"
    }
   ],
   "source": [
    "sv=SVC(kernel=\"poly\")\n",
    "sv.fit(x_train_scale,y_train)\n",
    "sv.score(x_test_scale,y_test)"
   ]
  },
  {
   "cell_type": "code",
   "execution_count": 61,
   "metadata": {},
   "outputs": [
    {
     "data": {
      "text/plain": [
       "0.75"
      ]
     },
     "execution_count": 61,
     "metadata": {},
     "output_type": "execute_result"
    }
   ],
   "source": [
    "sv=SVC()\n",
    "sv.fit(x_train_scale,y_train)\n",
    "sv.score(x_test_scale,y_test)"
   ]
  },
  {
   "cell_type": "code",
   "execution_count": 62,
   "metadata": {},
   "outputs": [
    {
     "data": {
      "text/plain": [
       "0.8"
      ]
     },
     "execution_count": 62,
     "metadata": {},
     "output_type": "execute_result"
    }
   ],
   "source": [
    "sv=SVC(kernel=\"linear\")\n",
    "sv.fit(x_train_scale,y_train)\n",
    "sv.score(x_test_scale,y_test)"
   ]
  },
  {
   "cell_type": "code",
   "execution_count": 63,
   "metadata": {},
   "outputs": [
    {
     "data": {
      "text/plain": [
       "0.7333333333333333"
      ]
     },
     "execution_count": 63,
     "metadata": {},
     "output_type": "execute_result"
    }
   ],
   "source": [
    "nv=BernoulliNB()\n",
    "nv.fit(x_train_scale,y_train)\n",
    "nv.score(x_test_scale,y_test)"
   ]
  },
  {
   "cell_type": "code",
   "execution_count": 64,
   "metadata": {},
   "outputs": [
    {
     "data": {
      "text/plain": [
       "0.6333333333333333"
      ]
     },
     "execution_count": 64,
     "metadata": {},
     "output_type": "execute_result"
    }
   ],
   "source": [
    "dt=DecisionTreeClassifier()\n",
    "dt.fit(x_train_scale,y_train)\n",
    "dt.score(x_test_scale,y_test)"
   ]
  },
  {
   "cell_type": "markdown",
   "metadata": {},
   "source": [
    "## Creating Neural Network"
   ]
  },
  {
   "cell_type": "code",
   "execution_count": 182,
   "metadata": {},
   "outputs": [],
   "source": [
    "from keras.models import Sequential\n",
    "from keras.layers import Dense"
   ]
  },
  {
   "cell_type": "code",
   "execution_count": 213,
   "metadata": {},
   "outputs": [],
   "source": [
    "model=Sequential()\n",
    "hidden1=Dense(units=32,activation='relu')\n",
    "hidden2=Dense(units=56,activation='relu')\n",
    "hidden3=Dense(units=26,activation='relu')\n",
    "hidden4=Dense(units=46,activation='relu')\n",
    "out=Dense(units=1,activation='relu')\n",
    "model.add(hidden1)\n",
    "model.add(hidden2)\n",
    "model.add(hidden3)\n",
    "model.add(hidden4)\n",
    "model.add(out)"
   ]
  },
  {
   "cell_type": "code",
   "execution_count": 214,
   "metadata": {},
   "outputs": [],
   "source": [
    "model.compile(optimizer='adam',loss='mean_absolute_error',metrics=['accuracy'])"
   ]
  },
  {
   "cell_type": "code",
   "execution_count": 215,
   "metadata": {},
   "outputs": [
    {
     "name": "stdout",
     "output_type": "stream",
     "text": [
      "Train on 239 samples, validate on 60 samples\n",
      "Epoch 1/100\n",
      "239/239 [==============================] - 1s 6ms/step - loss: 0.3402 - accuracy: 0.6778 - val_loss: 0.2842 - val_accuracy: 0.7167\n",
      "Epoch 2/100\n",
      "239/239 [==============================] - 0s 619us/step - loss: 0.3201 - accuracy: 0.6736 - val_loss: 0.2946 - val_accuracy: 0.7167\n",
      "Epoch 3/100\n",
      "239/239 [==============================] - 0s 526us/step - loss: 0.3103 - accuracy: 0.6820 - val_loss: 0.3051 - val_accuracy: 0.7167\n",
      "Epoch 4/100\n",
      "239/239 [==============================] - 0s 621us/step - loss: 0.2955 - accuracy: 0.7071 - val_loss: 0.3115 - val_accuracy: 0.7000\n",
      "Epoch 5/100\n",
      "239/239 [==============================] - 0s 664us/step - loss: 0.2898 - accuracy: 0.7280 - val_loss: 0.3206 - val_accuracy: 0.6500\n",
      "Epoch 6/100\n",
      "239/239 [==============================] - 0s 592us/step - loss: 0.2756 - accuracy: 0.7364 - val_loss: 0.3138 - val_accuracy: 0.6500\n",
      "Epoch 7/100\n",
      "239/239 [==============================] - 0s 719us/step - loss: 0.2597 - accuracy: 0.7490 - val_loss: 0.3055 - val_accuracy: 0.6500\n",
      "Epoch 8/100\n",
      "239/239 [==============================] - 0s 618us/step - loss: 0.2497 - accuracy: 0.7531 - val_loss: 0.2892 - val_accuracy: 0.7000\n",
      "Epoch 9/100\n",
      "239/239 [==============================] - 0s 609us/step - loss: 0.2412 - accuracy: 0.7657 - val_loss: 0.2873 - val_accuracy: 0.6833\n",
      "Epoch 10/100\n",
      "239/239 [==============================] - 0s 600us/step - loss: 0.2265 - accuracy: 0.7782 - val_loss: 0.2928 - val_accuracy: 0.7000\n",
      "Epoch 11/100\n",
      "239/239 [==============================] - 0s 650us/step - loss: 0.2205 - accuracy: 0.7992 - val_loss: 0.2760 - val_accuracy: 0.7167\n",
      "Epoch 12/100\n",
      "239/239 [==============================] - 0s 524us/step - loss: 0.2129 - accuracy: 0.8075 - val_loss: 0.2665 - val_accuracy: 0.7333\n",
      "Epoch 13/100\n",
      "239/239 [==============================] - 0s 615us/step - loss: 0.1975 - accuracy: 0.8368 - val_loss: 0.2699 - val_accuracy: 0.7500\n",
      "Epoch 14/100\n",
      "239/239 [==============================] - 0s 518us/step - loss: 0.1911 - accuracy: 0.8452 - val_loss: 0.2690 - val_accuracy: 0.7500\n",
      "Epoch 15/100\n",
      "239/239 [==============================] - 0s 642us/step - loss: 0.1792 - accuracy: 0.8577 - val_loss: 0.2722 - val_accuracy: 0.7500\n",
      "Epoch 16/100\n",
      "239/239 [==============================] - 0s 624us/step - loss: 0.1723 - accuracy: 0.8577 - val_loss: 0.2616 - val_accuracy: 0.7667\n",
      "Epoch 17/100\n",
      "239/239 [==============================] - 0s 721us/step - loss: 0.1608 - accuracy: 0.8703 - val_loss: 0.2517 - val_accuracy: 0.7500\n",
      "Epoch 18/100\n",
      "239/239 [==============================] - 0s 649us/step - loss: 0.1589 - accuracy: 0.8745 - val_loss: 0.2478 - val_accuracy: 0.7500\n",
      "Epoch 19/100\n",
      "239/239 [==============================] - 0s 620us/step - loss: 0.1564 - accuracy: 0.8787 - val_loss: 0.2599 - val_accuracy: 0.7500\n",
      "Epoch 20/100\n",
      "239/239 [==============================] - 0s 602us/step - loss: 0.1483 - accuracy: 0.8870 - val_loss: 0.2603 - val_accuracy: 0.7333\n",
      "Epoch 21/100\n",
      "239/239 [==============================] - 0s 601us/step - loss: 0.1501 - accuracy: 0.8870 - val_loss: 0.2626 - val_accuracy: 0.7333\n",
      "Epoch 22/100\n",
      "239/239 [==============================] - 0s 625us/step - loss: 0.1434 - accuracy: 0.8912 - val_loss: 0.2560 - val_accuracy: 0.7500\n",
      "Epoch 23/100\n",
      "239/239 [==============================] - 0s 663us/step - loss: 0.1383 - accuracy: 0.8828 - val_loss: 0.2469 - val_accuracy: 0.7500\n",
      "Epoch 24/100\n",
      "239/239 [==============================] - 0s 606us/step - loss: 0.1412 - accuracy: 0.8954 - val_loss: 0.2533 - val_accuracy: 0.7667\n",
      "Epoch 25/100\n",
      "239/239 [==============================] - 0s 652us/step - loss: 0.1360 - accuracy: 0.8912 - val_loss: 0.2642 - val_accuracy: 0.7333\n",
      "Epoch 26/100\n",
      "239/239 [==============================] - 0s 582us/step - loss: 0.1462 - accuracy: 0.8870 - val_loss: 0.2521 - val_accuracy: 0.7667\n",
      "Epoch 27/100\n",
      "239/239 [==============================] - 0s 583us/step - loss: 0.1366 - accuracy: 0.8954 - val_loss: 0.2607 - val_accuracy: 0.7500\n",
      "Epoch 28/100\n",
      "239/239 [==============================] - 0s 617us/step - loss: 0.1360 - accuracy: 0.8912 - val_loss: 0.2535 - val_accuracy: 0.7500\n",
      "Epoch 29/100\n",
      "239/239 [==============================] - 0s 597us/step - loss: 0.1323 - accuracy: 0.8954 - val_loss: 0.2571 - val_accuracy: 0.7500\n",
      "Epoch 30/100\n",
      "239/239 [==============================] - 0s 513us/step - loss: 0.1297 - accuracy: 0.8954 - val_loss: 0.2555 - val_accuracy: 0.7333\n",
      "Epoch 31/100\n",
      "239/239 [==============================] - 0s 668us/step - loss: 0.1362 - accuracy: 0.8912 - val_loss: 0.2529 - val_accuracy: 0.7500\n",
      "Epoch 32/100\n",
      "239/239 [==============================] - 0s 616us/step - loss: 0.1238 - accuracy: 0.8954 - val_loss: 0.2550 - val_accuracy: 0.7667\n",
      "Epoch 33/100\n",
      "239/239 [==============================] - 0s 506us/step - loss: 0.1291 - accuracy: 0.8954 - val_loss: 0.2492 - val_accuracy: 0.7833\n",
      "Epoch 34/100\n",
      "239/239 [==============================] - 0s 599us/step - loss: 0.1277 - accuracy: 0.8954 - val_loss: 0.2547 - val_accuracy: 0.7667\n",
      "Epoch 35/100\n",
      "239/239 [==============================] - 0s 647us/step - loss: 0.1270 - accuracy: 0.8954 - val_loss: 0.2540 - val_accuracy: 0.7333\n",
      "Epoch 36/100\n",
      "239/239 [==============================] - 0s 622us/step - loss: 0.1227 - accuracy: 0.8954 - val_loss: 0.2551 - val_accuracy: 0.7500\n",
      "Epoch 37/100\n",
      "239/239 [==============================] - 0s 542us/step - loss: 0.1265 - accuracy: 0.8954 - val_loss: 0.2549 - val_accuracy: 0.7500\n",
      "Epoch 38/100\n",
      "239/239 [==============================] - 0s 581us/step - loss: 0.1265 - accuracy: 0.8954 - val_loss: 0.2519 - val_accuracy: 0.7500\n",
      "Epoch 39/100\n",
      "239/239 [==============================] - 0s 533us/step - loss: 0.1211 - accuracy: 0.8954 - val_loss: 0.2556 - val_accuracy: 0.7667\n",
      "Epoch 40/100\n",
      "239/239 [==============================] - 0s 538us/step - loss: 0.1314 - accuracy: 0.8954 - val_loss: 0.2485 - val_accuracy: 0.7500\n",
      "Epoch 41/100\n",
      "239/239 [==============================] - 0s 533us/step - loss: 0.1259 - accuracy: 0.8954 - val_loss: 0.2529 - val_accuracy: 0.7500\n",
      "Epoch 42/100\n",
      "239/239 [==============================] - 0s 542us/step - loss: 0.1240 - accuracy: 0.8954 - val_loss: 0.2473 - val_accuracy: 0.7667\n",
      "Epoch 43/100\n",
      "239/239 [==============================] - 0s 616us/step - loss: 0.1201 - accuracy: 0.8954 - val_loss: 0.2573 - val_accuracy: 0.7500\n",
      "Epoch 44/100\n",
      "239/239 [==============================] - 0s 535us/step - loss: 0.1214 - accuracy: 0.8954 - val_loss: 0.2516 - val_accuracy: 0.7500\n",
      "Epoch 45/100\n",
      "239/239 [==============================] - 0s 539us/step - loss: 0.1197 - accuracy: 0.8954 - val_loss: 0.2499 - val_accuracy: 0.7500\n",
      "Epoch 46/100\n",
      "239/239 [==============================] - 0s 524us/step - loss: 0.1237 - accuracy: 0.8954 - val_loss: 0.2461 - val_accuracy: 0.7500\n",
      "Epoch 47/100\n",
      "239/239 [==============================] - 0s 534us/step - loss: 0.1202 - accuracy: 0.8954 - val_loss: 0.2549 - val_accuracy: 0.7667\n",
      "Epoch 48/100\n",
      "239/239 [==============================] - 0s 532us/step - loss: 0.1185 - accuracy: 0.8954 - val_loss: 0.2444 - val_accuracy: 0.7833\n",
      "Epoch 49/100\n",
      "239/239 [==============================] - 0s 538us/step - loss: 0.1190 - accuracy: 0.8954 - val_loss: 0.2475 - val_accuracy: 0.7333\n",
      "Epoch 50/100\n",
      "239/239 [==============================] - 0s 595us/step - loss: 0.1216 - accuracy: 0.8954 - val_loss: 0.2518 - val_accuracy: 0.7667\n",
      "Epoch 51/100\n",
      "239/239 [==============================] - 0s 590us/step - loss: 0.1182 - accuracy: 0.8954 - val_loss: 0.2457 - val_accuracy: 0.7833\n",
      "Epoch 52/100\n",
      "239/239 [==============================] - 0s 545us/step - loss: 0.1201 - accuracy: 0.8954 - val_loss: 0.2478 - val_accuracy: 0.7667\n",
      "Epoch 53/100\n",
      "239/239 [==============================] - 0s 527us/step - loss: 0.1186 - accuracy: 0.8954 - val_loss: 0.2553 - val_accuracy: 0.7333\n",
      "Epoch 54/100\n",
      "239/239 [==============================] - 0s 606us/step - loss: 0.1161 - accuracy: 0.8954 - val_loss: 0.2605 - val_accuracy: 0.7500\n",
      "Epoch 55/100\n",
      "239/239 [==============================] - 0s 532us/step - loss: 0.1219 - accuracy: 0.8954 - val_loss: 0.2574 - val_accuracy: 0.7333\n",
      "Epoch 56/100\n",
      "239/239 [==============================] - 0s 529us/step - loss: 0.1250 - accuracy: 0.8954 - val_loss: 0.2593 - val_accuracy: 0.7500\n"
     ]
    },
    {
     "name": "stdout",
     "output_type": "stream",
     "text": [
      "Epoch 57/100\n",
      "239/239 [==============================] - 0s 529us/step - loss: 0.1201 - accuracy: 0.8954 - val_loss: 0.2555 - val_accuracy: 0.7167\n",
      "Epoch 58/100\n",
      "239/239 [==============================] - 0s 530us/step - loss: 0.1225 - accuracy: 0.8954 - val_loss: 0.2449 - val_accuracy: 0.7667\n",
      "Epoch 59/100\n",
      "239/239 [==============================] - 0s 586us/step - loss: 0.1235 - accuracy: 0.8954 - val_loss: 0.2515 - val_accuracy: 0.7500\n",
      "Epoch 60/100\n",
      "239/239 [==============================] - 0s 518us/step - loss: 0.1193 - accuracy: 0.8954 - val_loss: 0.2538 - val_accuracy: 0.7500\n",
      "Epoch 61/100\n",
      "239/239 [==============================] - 0s 527us/step - loss: 0.1231 - accuracy: 0.8954 - val_loss: 0.2576 - val_accuracy: 0.7333\n",
      "Epoch 62/100\n",
      "239/239 [==============================] - 0s 543us/step - loss: 0.1180 - accuracy: 0.8954 - val_loss: 0.2503 - val_accuracy: 0.7500\n",
      "Epoch 63/100\n",
      "239/239 [==============================] - 0s 527us/step - loss: 0.1190 - accuracy: 0.8954 - val_loss: 0.2560 - val_accuracy: 0.7333\n",
      "Epoch 64/100\n",
      "239/239 [==============================] - 0s 518us/step - loss: 0.1157 - accuracy: 0.8954 - val_loss: 0.2520 - val_accuracy: 0.7667\n",
      "Epoch 65/100\n",
      "239/239 [==============================] - 0s 538us/step - loss: 0.1180 - accuracy: 0.8954 - val_loss: 0.2545 - val_accuracy: 0.7333\n",
      "Epoch 66/100\n",
      "239/239 [==============================] - 0s 507us/step - loss: 0.1175 - accuracy: 0.8954 - val_loss: 0.2570 - val_accuracy: 0.7333\n",
      "Epoch 67/100\n",
      "239/239 [==============================] - 0s 622us/step - loss: 0.1179 - accuracy: 0.8954 - val_loss: 0.2473 - val_accuracy: 0.7500\n",
      "Epoch 68/100\n",
      "239/239 [==============================] - 0s 517us/step - loss: 0.1166 - accuracy: 0.8954 - val_loss: 0.2535 - val_accuracy: 0.7833\n",
      "Epoch 69/100\n",
      "239/239 [==============================] - 0s 533us/step - loss: 0.1209 - accuracy: 0.8954 - val_loss: 0.2508 - val_accuracy: 0.7500\n",
      "Epoch 70/100\n",
      "239/239 [==============================] - 0s 529us/step - loss: 0.1214 - accuracy: 0.8954 - val_loss: 0.2542 - val_accuracy: 0.7333\n",
      "Epoch 71/100\n",
      "239/239 [==============================] - 0s 534us/step - loss: 0.1162 - accuracy: 0.8954 - val_loss: 0.2549 - val_accuracy: 0.7333\n",
      "Epoch 72/100\n",
      "239/239 [==============================] - 0s 572us/step - loss: 0.1187 - accuracy: 0.8954 - val_loss: 0.2567 - val_accuracy: 0.7500\n",
      "Epoch 73/100\n",
      "239/239 [==============================] - 0s 514us/step - loss: 0.1166 - accuracy: 0.8954 - val_loss: 0.2490 - val_accuracy: 0.7667\n",
      "Epoch 74/100\n",
      "239/239 [==============================] - 0s 516us/step - loss: 0.1166 - accuracy: 0.8954 - val_loss: 0.2522 - val_accuracy: 0.7500\n",
      "Epoch 75/100\n",
      "239/239 [==============================] - 0s 616us/step - loss: 0.1193 - accuracy: 0.8954 - val_loss: 0.2510 - val_accuracy: 0.7667\n",
      "Epoch 76/100\n",
      "239/239 [==============================] - 0s 503us/step - loss: 0.1183 - accuracy: 0.8954 - val_loss: 0.2522 - val_accuracy: 0.7333\n",
      "Epoch 77/100\n",
      "239/239 [==============================] - 0s 516us/step - loss: 0.1181 - accuracy: 0.8954 - val_loss: 0.2526 - val_accuracy: 0.7500\n",
      "Epoch 78/100\n",
      "239/239 [==============================] - 0s 526us/step - loss: 0.1174 - accuracy: 0.8954 - val_loss: 0.2508 - val_accuracy: 0.7667\n",
      "Epoch 79/100\n",
      "239/239 [==============================] - 0s 529us/step - loss: 0.1194 - accuracy: 0.8954 - val_loss: 0.2536 - val_accuracy: 0.7500\n",
      "Epoch 80/100\n",
      "239/239 [==============================] - 0s 514us/step - loss: 0.1170 - accuracy: 0.8954 - val_loss: 0.2518 - val_accuracy: 0.7167\n",
      "Epoch 81/100\n",
      "239/239 [==============================] - 0s 533us/step - loss: 0.1170 - accuracy: 0.8954 - val_loss: 0.2483 - val_accuracy: 0.7667\n",
      "Epoch 82/100\n",
      "239/239 [==============================] - 0s 519us/step - loss: 0.1161 - accuracy: 0.8954 - val_loss: 0.2532 - val_accuracy: 0.7500\n",
      "Epoch 83/100\n",
      "239/239 [==============================] - 0s 530us/step - loss: 0.1157 - accuracy: 0.8954 - val_loss: 0.2474 - val_accuracy: 0.7667\n",
      "Epoch 84/100\n",
      "239/239 [==============================] - 0s 550us/step - loss: 0.1152 - accuracy: 0.8954 - val_loss: 0.2513 - val_accuracy: 0.7500\n",
      "Epoch 85/100\n",
      "239/239 [==============================] - 0s 509us/step - loss: 0.1127 - accuracy: 0.8954 - val_loss: 0.2505 - val_accuracy: 0.7500\n",
      "Epoch 86/100\n",
      "239/239 [==============================] - 0s 521us/step - loss: 0.1142 - accuracy: 0.8954 - val_loss: 0.2491 - val_accuracy: 0.7500\n",
      "Epoch 87/100\n",
      "239/239 [==============================] - 0s 593us/step - loss: 0.1160 - accuracy: 0.8954 - val_loss: 0.2517 - val_accuracy: 0.7500\n",
      "Epoch 88/100\n",
      "239/239 [==============================] - 0s 571us/step - loss: 0.1147 - accuracy: 0.8954 - val_loss: 0.2506 - val_accuracy: 0.7667\n",
      "Epoch 89/100\n",
      "239/239 [==============================] - 0s 549us/step - loss: 0.1165 - accuracy: 0.8954 - val_loss: 0.2492 - val_accuracy: 0.7500\n",
      "Epoch 90/100\n",
      "239/239 [==============================] - 0s 509us/step - loss: 0.1171 - accuracy: 0.8954 - val_loss: 0.2509 - val_accuracy: 0.7500\n",
      "Epoch 91/100\n",
      "239/239 [==============================] - 0s 589us/step - loss: 0.1161 - accuracy: 0.8954 - val_loss: 0.2490 - val_accuracy: 0.7667\n",
      "Epoch 92/100\n",
      "239/239 [==============================] - 0s 528us/step - loss: 0.1149 - accuracy: 0.8954 - val_loss: 0.2490 - val_accuracy: 0.7333\n",
      "Epoch 93/100\n",
      "239/239 [==============================] - 0s 520us/step - loss: 0.1135 - accuracy: 0.8954 - val_loss: 0.2517 - val_accuracy: 0.7500\n",
      "Epoch 94/100\n",
      "239/239 [==============================] - 0s 514us/step - loss: 0.1152 - accuracy: 0.8954 - val_loss: 0.2516 - val_accuracy: 0.7333\n",
      "Epoch 95/100\n",
      "239/239 [==============================] - 0s 587us/step - loss: 0.1166 - accuracy: 0.8954 - val_loss: 0.2519 - val_accuracy: 0.7333\n",
      "Epoch 96/100\n",
      "239/239 [==============================] - 0s 605us/step - loss: 0.1146 - accuracy: 0.8954 - val_loss: 0.2505 - val_accuracy: 0.7500\n",
      "Epoch 97/100\n",
      "239/239 [==============================] - 0s 528us/step - loss: 0.1153 - accuracy: 0.8954 - val_loss: 0.2542 - val_accuracy: 0.7333\n",
      "Epoch 98/100\n",
      "239/239 [==============================] - 0s 530us/step - loss: 0.1161 - accuracy: 0.8954 - val_loss: 0.2452 - val_accuracy: 0.7500\n",
      "Epoch 99/100\n",
      "239/239 [==============================] - 0s 501us/step - loss: 0.1185 - accuracy: 0.8954 - val_loss: 0.2467 - val_accuracy: 0.7500\n",
      "Epoch 100/100\n",
      "239/239 [==============================] - 0s 593us/step - loss: 0.1141 - accuracy: 0.8954 - val_loss: 0.2462 - val_accuracy: 0.7333\n"
     ]
    }
   ],
   "source": [
    "history=model.fit(np.asarray(x_train_scale),np.asarray(y_train),epochs=100,batch_size=10, \n",
    "          validation_data=(np.asarray(x_test_scale),np.asarray(y_test)))"
   ]
  },
  {
   "cell_type": "code",
   "execution_count": 216,
   "metadata": {},
   "outputs": [
    {
     "name": "stdout",
     "output_type": "stream",
     "text": [
      "60/60 [==============================] - 0s 139us/step\n"
     ]
    },
    {
     "data": {
      "text/plain": [
       "[0.24619698226451875, 0.7333333492279053]"
      ]
     },
     "execution_count": 216,
     "metadata": {},
     "output_type": "execute_result"
    }
   ],
   "source": [
    "model.evaluate(np.asarray(x_test_scale),np.asarray(y_test))"
   ]
  },
  {
   "cell_type": "code",
   "execution_count": 217,
   "metadata": {},
   "outputs": [
    {
     "name": "stdout",
     "output_type": "stream",
     "text": [
      "Model: \"sequential_35\"\n",
      "_________________________________________________________________\n",
      "Layer (type)                 Output Shape              Param #   \n",
      "=================================================================\n",
      "dense_176 (Dense)            (None, 32)                384       \n",
      "_________________________________________________________________\n",
      "dense_177 (Dense)            (None, 56)                1848      \n",
      "_________________________________________________________________\n",
      "dense_178 (Dense)            (None, 26)                1482      \n",
      "_________________________________________________________________\n",
      "dense_179 (Dense)            (None, 46)                1242      \n",
      "_________________________________________________________________\n",
      "dense_180 (Dense)            (None, 1)                 47        \n",
      "=================================================================\n",
      "Total params: 5,003\n",
      "Trainable params: 5,003\n",
      "Non-trainable params: 0\n",
      "_________________________________________________________________\n"
     ]
    }
   ],
   "source": [
    "model.summary()"
   ]
  },
  {
   "cell_type": "code",
   "execution_count": 218,
   "metadata": {},
   "outputs": [
    {
     "data": {
      "image/png": "[encoded data removed]",
      "text/plain": [
       "<Figure size 432x288 with 1 Axes>"
      ]
     },
     "metadata": {
      "needs_background": "light"
     },
     "output_type": "display_data"
    },
    {
     "data": {
      "image/png": "[encoded data removed]",
      "text/plain": [
       "<Figure size 432x288 with 1 Axes>"
      ]
     },
     "metadata": {
      "needs_background": "light"
     },
     "output_type": "display_data"
    }
   ],
   "source": [
    "plt.plot(history.history['accuracy'])\n",
    "plt.plot(history.history['val_accuracy'])\n",
    "plt.title('model accuracy')\n",
    "plt.ylabel('accuracy')\n",
    "plt.xlabel('epoch')\n",
    "plt.legend(['train', 'test'], loc='upper left')\n",
    "plt.show()\n",
    "\n",
    "plt.plot(history.history['loss'])\n",
    "plt.plot(history.history['val_loss'])\n",
    "plt.title('model accuracy')\n",
    "plt.ylabel('accuracy')\n",
    "plt.xlabel('epoch')\n",
    "plt.legend(['train', 'test'], loc='upper left')\n",
    "plt.show()"
   ]
  },
  {
   "cell_type": "code",
   "execution_count": null,
   "metadata": {},
   "outputs": [],
   "source": []
  },
  {
   "cell_type": "code",
   "execution_count": null,
   "metadata": {},
   "outputs": [],
   "source": []
  }
 ],
 "metadata": {
  "kernelspec": {
   "display_name": "Python 3",
   "language": "python",
   "name": "python3"
  },
  "language_info": {
   "codemirror_mode": {
    "name": "ipython",
    "version": 3
   },
   "file_extension": ".py",
   "mimetype": "text/x-python",
   "name": "python",
   "nbconvert_exporter": "python",
   "pygments_lexer": "ipython3",
   "version": "3.7.4"
  }
 },
 "nbformat": 4,
 "nbformat_minor": 2
}
